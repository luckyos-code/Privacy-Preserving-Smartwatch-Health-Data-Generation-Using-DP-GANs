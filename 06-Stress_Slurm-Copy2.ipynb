{
 "cells": [
  {
   "cell_type": "code",
   "execution_count": 2,
   "metadata": {
    "tags": []
   },
   "outputs": [
    {
     "name": "stdout",
     "output_type": "stream",
     "text": [
      "***Running scenario 1: 1-LOSO_15real\n",
      "**Starting experiment run (1/1): CNN_LOSO_15real_eps0.1...\n",
      "*** Adding real data from: WESAD ***\n",
      "*** Loaded 15 real and 0 synthetic subjects ***\n",
      "\n",
      "*CI run 1/10...\n",
      "[PhysicalDevice(name='/physical_device:GPU:0', device_type='GPU')]\n",
      "*** Training CNN model in LOSO mode ***\n",
      "LOSO train on 15 real and 0 synthetic noGAN subjects - with eps=0.1\n",
      "LOSO on S2 from WESAD (1/15)...\n",
      "DP-SGD with sampling rate = 9.43% and noise_multiplier = 20.09357737650037 iterated over 106 steps satisfies differential privacy with eps = 0.1 and delta = 0.001.\n",
      "Epoch 1/10\n",
      "/usr/local/lib/python3.8/dist-packages/keras/backend.py:5703: UserWarning: \"`binary_crossentropy` received `from_logits=True`, but the `output` argument was produced by a Sigmoid activation and thus does not represent logits. Was this intended?\n",
      "  output, from_logits = _get_logits(\n",
      "Traceback (most recent call last):\n",
      "  File \"main.py\", line 234, in <module>\n",
      "    main()\n",
      "  File \"main.py\", line 230, in main\n",
      "    scenario_run(args.id, args.saving)\n",
      "  File \"main.py\", line 81, in scenario_run\n",
      "    run_dict = ci_experiment(\n",
      "  File \"/home/run_experiment.py\", line 138, in ci_experiment\n",
      "    single_run_config = run(\n",
      "  File \"/home/run_experiment.py\", line 89, in run\n",
      "    run_config[\"privacy_config\"][\"noise_multiplier\"]) = train(\n",
      "  File \"/home/stress_detector/training.py\", line 255, in train\n",
      "    model, history = train_model(model, X_train, Y_train, epochs, batch_size, gan_mode, validation_split=None, verbose=2)\n",
      "  File \"/home/stress_detector/training.py\", line 151, in train_model\n",
      "    history = model.fit(\n",
      "  File \"/usr/local/lib/python3.8/dist-packages/keras/utils/traceback_utils.py\", line 70, in error_handler\n",
      "    raise e.with_traceback(filtered_tb) from None\n",
      "  File \"/tmp/__autograph_generated_filesu1r0roc.py\", line 15, in tf__train_function\n",
      "    retval_ = ag__.converted_call(ag__.ld(step_function), (ag__.ld(self), ag__.ld(iterator)), None, fscope)\n",
      "  File \"/usr/local/lib/python3.8/dist-packages/tensorflow_privacy/privacy/optimizers/dp_optimizer_keras.py\", line 230, in apply_gradients\n",
      "    assert self._was_dp_gradients_called, (\n",
      "AssertionError: in user code:\n",
      "\n",
      "    File \"/usr/local/lib/python3.8/dist-packages/keras/engine/training.py\", line 1284, in train_function  *\n",
      "        return step_function(self, iterator)\n",
      "    File \"/usr/local/lib/python3.8/dist-packages/keras/engine/training.py\", line 1268, in step_function  **\n",
      "        outputs = model.distribute_strategy.run(run_step, args=(data,))\n",
      "    File \"/usr/local/lib/python3.8/dist-packages/keras/engine/training.py\", line 1249, in run_step  **\n",
      "        outputs = model.train_step(data)\n",
      "    File \"/usr/local/lib/python3.8/dist-packages/keras/engine/training.py\", line 1054, in train_step\n",
      "        self.optimizer.minimize(loss, self.trainable_variables, tape=tape)\n",
      "    File \"/usr/local/lib/python3.8/dist-packages/keras/optimizers/optimizer.py\", line 543, in minimize\n",
      "        self.apply_gradients(grads_and_vars)\n",
      "    File \"/usr/local/lib/python3.8/dist-packages/tensorflow_privacy/privacy/optimizers/dp_optimizer_keras.py\", line 230, in apply_gradients\n",
      "        assert self._was_dp_gradients_called, (\n",
      "\n",
      "    AssertionError: Neither _compute_gradients() or get_gradients() on the differentially private optimizer was called. This means the training is not differentially private. It may be the case that you need to upgrade to TF 2.4 or higher to use this particular optimizer.\n",
      "\n"
     ]
    }
   ],
   "source": [
    "!singularity exec \\\n",
    "    --cleanenv \\\n",
    "    --containall \\\n",
    "    -H $PWD:/home \\\n",
    "    --nv \\\n",
    "    stress_slurm/gan.sif \\\n",
    "    /bin/sh -c 'export TF_CPP_MIN_LOG_LEVEL=2 && python3.8 main.py --id 1'\n",
    "    #/bin/sh -c 'export TF_CPP_MIN_LOG_LEVEL=2 && python3.8 main.py --id 5' #--saving'\n",
    "    # /bin/sh -c 'export TF_CPP_MIN_LOG_LEVEL=2 && python3.8 noise_attack.py'"
   ]
  },
  {
   "cell_type": "code",
   "execution_count": 14,
   "metadata": {},
   "outputs": [],
   "source": [
    "#!cd stress_slurm \\\n",
    "#    && singularity exec gan.sif spython recipe Dockerfile > Singularity \\\n",
    "#    && singularity build gan_.sif Singularity"
   ]
  },
  {
   "cell_type": "code",
   "execution_count": null,
   "metadata": {},
   "outputs": [],
   "source": []
  }
 ],
 "metadata": {
  "kernelspec": {
   "display_name": "Python 3.11",
   "language": "python",
   "name": "python3"
  },
  "language_info": {
   "codemirror_mode": {
    "name": "ipython",
    "version": 3
   },
   "file_extension": ".py",
   "mimetype": "text/x-python",
   "name": "python",
   "nbconvert_exporter": "python",
   "pygments_lexer": "ipython3",
   "version": "3.11.0"
  },
  "vscode": {
   "interpreter": {
    "hash": "c10594c322a1d947e8fe401957d564bca2bfab6035555ae665b20819d7ff0423"
   }
  }
 },
 "nbformat": 4,
 "nbformat_minor": 4
}
