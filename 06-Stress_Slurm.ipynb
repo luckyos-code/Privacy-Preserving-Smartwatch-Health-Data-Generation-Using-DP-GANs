{
 "cells": [
  {
   "cell_type": "code",
   "execution_count": 23,
   "metadata": {
    "tags": []
   },
   "outputs": [
    {
     "name": "stdout",
     "output_type": "stream",
     "text": [
      "2023-11-13 17:34:32.795320: I tensorflow/core/platform/cpu_feature_guard.cc:182] This TensorFlow binary is optimized to use available CPU instructions in performance-critical operations.\n",
      "To enable the following instructions: AVX2 FMA, in other operations, rebuild TensorFlow with the appropriate compiler flags.\n",
      "***Running scenario 2: 2-TSTR_15syn\n",
      "**Starting experiment run (1/9): CNN-LSTM_TSTR_15syn_TIMEGAN...\n",
      "*** Adding real data from: WESAD ***\n",
      "*** Adding synthetic data from: TIMEGAN ***\n",
      "*** Loaded 15 real and 15 synthetic subjects ***\n",
      "\n",
      "*CI run 1/10...\n",
      "2023-11-13 17:35:14.955887: I tensorflow/core/common_runtime/gpu/gpu_device.cc:1635] Created device /job:localhost/replica:0/task:0/device:GPU:0 with 9803 MB memory:  -> device: 0, name: NVIDIA GeForce RTX 2080 Ti, pci bus id: 0000:06:00.0, compute capability: 7.5\n",
      "2023-11-13 17:35:15.601436: I tensorflow/core/common_runtime/executor.cc:1197] [/device:CPU:0] (DEBUG INFO) Executor start aborting (this does not indicate an error and you can ignore this message): INVALID_ARGUMENT: You must feed a value for placeholder tensor 'gradients/split_2_grad/concat/split_2/split_dim' with dtype int32\n",
      "\t [[{{node gradients/split_2_grad/concat/split_2/split_dim}}]]\n",
      "2023-11-13 17:35:15.603096: I tensorflow/core/common_runtime/executor.cc:1197] [/device:CPU:0] (DEBUG INFO) Executor start aborting (this does not indicate an error and you can ignore this message): INVALID_ARGUMENT: You must feed a value for placeholder tensor 'gradients/split_grad/concat/split/split_dim' with dtype int32\n",
      "\t [[{{node gradients/split_grad/concat/split/split_dim}}]]\n",
      "2023-11-13 17:35:15.604538: I tensorflow/core/common_runtime/executor.cc:1197] [/device:CPU:0] (DEBUG INFO) Executor start aborting (this does not indicate an error and you can ignore this message): INVALID_ARGUMENT: You must feed a value for placeholder tensor 'gradients/split_1_grad/concat/split_1/split_dim' with dtype int32\n",
      "\t [[{{node gradients/split_1_grad/concat/split_1/split_dim}}]]\n",
      "2023-11-13 17:35:15.878970: I tensorflow/core/common_runtime/executor.cc:1197] [/device:CPU:0] (DEBUG INFO) Executor start aborting (this does not indicate an error and you can ignore this message): INVALID_ARGUMENT: You must feed a value for placeholder tensor 'gradients/split_2_grad/concat/split_2/split_dim' with dtype int32\n",
      "\t [[{{node gradients/split_2_grad/concat/split_2/split_dim}}]]\n",
      "2023-11-13 17:35:15.880607: I tensorflow/core/common_runtime/executor.cc:1197] [/device:CPU:0] (DEBUG INFO) Executor start aborting (this does not indicate an error and you can ignore this message): INVALID_ARGUMENT: You must feed a value for placeholder tensor 'gradients/split_grad/concat/split/split_dim' with dtype int32\n",
      "\t [[{{node gradients/split_grad/concat/split/split_dim}}]]\n",
      "2023-11-13 17:35:15.882046: I tensorflow/core/common_runtime/executor.cc:1197] [/device:CPU:0] (DEBUG INFO) Executor start aborting (this does not indicate an error and you can ignore this message): INVALID_ARGUMENT: You must feed a value for placeholder tensor 'gradients/split_1_grad/concat/split_1/split_dim' with dtype int32\n",
      "\t [[{{node gradients/split_1_grad/concat/split_1/split_dim}}]]\n",
      "Traceback (most recent call last):\n",
      "  File \"main.py\", line 200, in <module>\n",
      "    main()\n",
      "  File \"main.py\", line 196, in main\n",
      "    scenario_run(args.id, args.saving)\n",
      "  File \"main.py\", line 103, in scenario_run\n",
      "    run_dict = ci_experiment(\n",
      "  File \"/home/run_experiment.py\", line 135, in ci_experiment\n",
      "    single_run_config = run(\n",
      "  File \"/home/run_experiment.py\", line 88, in run\n",
      "    run_config[\"privacy_config\"][\"noise_multiplier\"]) = train(\n",
      "  File \"/home/stress_detector/training.py\", line 233, in train\n",
      "    model, history = train_model(model, X_train, Y_train, epochs, batch_size, validation_split=None, verbose=2)\n",
      "  File \"/home/stress_detector/training.py\", line 91, in train_model\n",
      "    1: (np.argmax(Y_train, axis=1).tolist().count(0) / np.argmax(Y_train, axis=1).tolist().count(1)),}\n",
      "ZeroDivisionError: division by zero\n"
     ]
    }
   ],
   "source": [
    "!singularity exec \\\n",
    "    --cleanenv \\\n",
    "    --containall \\\n",
    "    -H $PWD:/home \\\n",
    "    --nv \\\n",
    "    stress_slurm/gan.sif \\\n",
    "    python3.8 main.py --id 2 #--saving"
   ]
  },
  {
   "cell_type": "code",
   "execution_count": 2,
   "metadata": {},
   "outputs": [],
   "source": [
    "#!cd stress_slurm \\\n",
    "#    && singularity exec gan.sif spython recipe Dockerfile > Singularity \\\n",
    "#    && singularity build gan_.sif Singularity"
   ]
  },
  {
   "cell_type": "code",
   "execution_count": null,
   "metadata": {},
   "outputs": [],
   "source": []
  }
 ],
 "metadata": {
  "kernelspec": {
   "display_name": "Python 3.11",
   "language": "python",
   "name": "python3"
  },
  "language_info": {
   "codemirror_mode": {
    "name": "ipython",
    "version": 3
   },
   "file_extension": ".py",
   "mimetype": "text/x-python",
   "name": "python",
   "nbconvert_exporter": "python",
   "pygments_lexer": "ipython3",
   "version": "3.11.0"
  },
  "vscode": {
   "interpreter": {
    "hash": "c10594c322a1d947e8fe401957d564bca2bfab6035555ae665b20819d7ff0423"
   }
  }
 },
 "nbformat": 4,
 "nbformat_minor": 4
}
