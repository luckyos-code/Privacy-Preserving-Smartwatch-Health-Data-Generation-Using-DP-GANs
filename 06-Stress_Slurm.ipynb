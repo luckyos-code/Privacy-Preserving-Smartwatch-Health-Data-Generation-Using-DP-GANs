{
 "cells": [
  {
   "cell_type": "code",
   "execution_count": 19,
   "metadata": {
    "tags": []
   },
   "outputs": [
    {
     "name": "stdout",
     "output_type": "stream",
     "text": [
      "diff:  [-103.48647751  -10.36659427 -151.6013313     2.02915752  135.00308564\n",
      " -217.55387657   24.74438562 -282.97822814 -222.57102238   81.56061255\n",
      "   -1.40755831  308.61879177 -104.78686192  -37.28388735 -180.38462623\n",
      "    4.21952392  -38.21340629 -209.68826684   76.74115469 -201.23149072\n",
      "  -92.94265462 -336.11375745 -214.3071488   146.60203974   73.48624666\n",
      " -114.65600383 -144.42887529   50.21241279  -88.12743738 -196.70160911\n",
      "  -81.2691649   237.46501318 -196.99058105   65.24541602   99.75600243\n",
      "   81.53805535 -143.25435563  -64.55601569  181.51526475  -89.82332181\n",
      "   15.41619057  -73.02280647   91.17431312  -98.65916279  -29.86528689\n",
      " -129.61485145  -89.38548306  107.82337734 -210.31576072  -74.15114389\n",
      "  -94.9749087   473.58019487 -147.61444668 -108.67681954  -94.87301396\n",
      "  -37.72069593  121.08848401  -11.37718166  -11.15558552   -9.70119666\n",
      " -143.74489679 -223.21059288   35.19923137   92.59394082  142.59674638\n",
      " -103.68286368   -7.188937     -1.26431809   16.64540732  175.55325154\n",
      "  264.19800456   59.79157043  -60.28569495   32.04792835   -7.36170829\n",
      "   -5.91658492    4.59685844  -92.87229681   97.43850231   56.63428265\n",
      " -186.96463721  165.04360684  -64.96267948  -80.82291094   -5.53890396\n",
      "  -15.88456863 -283.11514726  197.78284908   20.318729    131.82167179\n",
      " -103.51073409  -71.03680328  132.06773814 -602.55209828   41.16066656\n",
      "   94.76083129   42.53886588  -19.36271083   12.41046118 -194.52401524]\n",
      "min:  -602.5520982810172\n",
      "max:  473.5801948732223\n"
     ]
    }
   ],
   "source": [
    "!singularity exec \\\n",
    "    --cleanenv \\\n",
    "    --containall \\\n",
    "    -H $PWD:/home \\\n",
    "    --nv \\\n",
    "    stress_slurm/gan.sif \\\n",
    "    /bin/sh -c 'export TF_CPP_MIN_LOG_LEVEL=2 && python3.8 main.py --id 1'\n",
    "    #/bin/sh -c 'export TF_CPP_MIN_LOG_LEVEL=2 && python3.8 main.py --id 5' #--saving'\n",
    "    # /bin/sh -c 'export TF_CPP_MIN_LOG_LEVEL=2 && python3.8 noise_attack.py'"
   ]
  },
  {
   "cell_type": "code",
   "execution_count": 14,
   "metadata": {},
   "outputs": [],
   "source": [
    "#!cd stress_slurm \\\n",
    "#    && singularity exec gan.sif spython recipe Dockerfile > Singularity \\\n",
    "#    && singularity build gan_.sif Singularity"
   ]
  },
  {
   "cell_type": "code",
   "execution_count": null,
   "metadata": {},
   "outputs": [],
   "source": []
  }
 ],
 "metadata": {
  "kernelspec": {
   "display_name": "Python 3.11",
   "language": "python",
   "name": "python3"
  },
  "language_info": {
   "codemirror_mode": {
    "name": "ipython",
    "version": 3
   },
   "file_extension": ".py",
   "mimetype": "text/x-python",
   "name": "python",
   "nbconvert_exporter": "python",
   "pygments_lexer": "ipython3",
   "version": "3.11.0"
  },
  "vscode": {
   "interpreter": {
    "hash": "c10594c322a1d947e8fe401957d564bca2bfab6035555ae665b20819d7ff0423"
   }
  }
 },
 "nbformat": 4,
 "nbformat_minor": 4
}
