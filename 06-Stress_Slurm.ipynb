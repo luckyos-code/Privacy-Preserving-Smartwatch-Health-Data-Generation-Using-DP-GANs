{
 "cells": [
  {
   "cell_type": "code",
   "execution_count": null,
   "metadata": {
    "tags": []
   },
   "outputs": [
    {
     "name": "stdout",
     "output_type": "stream",
     "text": [
      "***Running scenario 3: 3-TSTR_cGAN\n",
      "**Starting experiment run (1/3): CNN-LSTM_TSTR_cGAN_syn100_DPCGAN-e-10...\n",
      "*** Adding real data from: WESAD ***\n",
      "*** Adding synthetic data from: DPCGAN-e-10 ***\n",
      "*** Loaded 15 real and 100 synthetic subjects ***\n",
      "\n",
      "*CI run 1/10...\n",
      "--CI run duration :0:00:32.737459\n",
      "\n",
      "*CI run 2/10...\n",
      "--CI run duration :0:00:28.115035\n",
      "\n",
      "*CI run 3/10...\n",
      "--CI run duration :0:00:27.782440\n",
      "\n",
      "*CI run 4/10...\n",
      "--CI run duration :0:00:26.295439\n",
      "\n",
      "*CI run 5/10...\n",
      "--CI run duration :0:00:24.447303\n",
      "\n",
      "*CI run 6/10...\n",
      "--CI run duration :0:00:25.038171\n",
      "\n",
      "*CI run 7/10...\n",
      "--CI run duration :0:00:25.241321\n",
      "\n",
      "*CI run 8/10...\n",
      "--CI run duration :0:00:26.224663\n",
      "\n",
      "*CI run 9/10...\n",
      "--CI run duration :0:00:26.451154\n",
      "\n",
      "*CI run 10/10...\n",
      "--CI run duration :0:00:28.162236\n",
      "\n",
      "***CI results:\n",
      "\n",
      "         accuracy  precision    recall        f1\n",
      "S2       0.773529   0.773529  0.773529  0.773529\n",
      "S3       0.682353   0.682353  0.682353  0.682353\n",
      "S4       1.000000   1.000000  1.000000  1.000000\n",
      "S5       0.934286   0.934286  0.934286  0.934286\n",
      "S6       0.982857   0.982857  0.982857  0.982857\n",
      "S7       0.957143   0.957143  0.957143  0.957143\n",
      "S8       0.888571   0.888571  0.888571  0.888571\n",
      "S9       1.000000   1.000000  1.000000  1.000000\n",
      "S10      0.955556   0.955556  0.952778  0.954147\n",
      "S11      0.644444   0.644444  0.644444  0.644444\n",
      "S13      1.000000   1.000000  1.000000  1.000000\n",
      "S14      0.694444   0.694444  0.694444  0.694444\n",
      "S15      0.980556   0.980556  0.980556  0.980556\n",
      "S16      0.955556   0.955556  0.955556  0.955556\n",
      "S17      0.663889   0.663889  0.663889  0.663889\n",
      "average  0.874212   0.874212  0.874027  0.874118\n",
      "poor model ratio: 0.0\n",
      "\n",
      "**Starting experiment run (2/3): CNN_TSTR_cGAN_syn100_DPCGAN-e-10...\n",
      "*** Adding real data from: WESAD ***\n",
      "*** Adding synthetic data from: DPCGAN-e-10 ***\n",
      "^C\n",
      "Traceback (most recent call last):\n",
      "  File \"main.py\", line 264, in <module>\n",
      "    main()\n",
      "  File \"main.py\", line 260, in main\n",
      "    scenario_run(args.id, args.saving)\n",
      "  File \"main.py\", line 134, in scenario_run\n",
      "    run_dict = ci_experiment(\n",
      "  File \"/home/run_experiment.py\", line 123, in ci_experiment\n",
      "    realX, realY, synX, synY = load_data(\n",
      "  File \"/home/stress_detector/preprocessing.py\", line 377, in load_data\n",
      "    synX, synY = create_preprocessed_subjects_data_gen(syn_data, fs=1)\n",
      "  File \"/home/stress_detector/preprocessing.py\", line 270, in create_preprocessed_subjects_data_gen\n",
      "    X = create_training_data_per_subject_gen(fs, windows)\n",
      "  File \"/home/stress_detector/preprocessing.py\", line 258, in create_training_data_per_subject_gen\n",
      "    _, yfs = fft_subwindows(subwindows, duration_in_sec, fs=fs)\n",
      "  File \"/home/stress_detector/preprocessing.py\", line 154, in fft_subwindows\n",
      "    freq = scipy.fft.fftfreq(N, 1 / fs)\n",
      "  File \"/usr/local/lib/python3.8/dist-packages/numpy/fft/helper.py\", line 166, in fftfreq\n",
      "KeyboardInterrupt\n"
     ]
    }
   ],
   "source": [
    "!singularity exec \\\n",
    "    --cleanenv \\\n",
    "    --containall \\\n",
    "    -H $PWD:/home \\\n",
    "    --nv \\\n",
    "    stress_slurm/gan.sif \\\n",
    "    /bin/sh -c 'export TF_CPP_MIN_LOG_LEVEL=2 && python3.8 main.py --id 3'\n",
    "    #/bin/sh -c 'export TF_CPP_MIN_LOG_LEVEL=2 && python3.8 main.py --id 5' #--saving'\n",
    "    # /bin/sh -c 'export TF_CPP_MIN_LOG_LEVEL=2 && python3.8 noise_attack.py'"
   ]
  },
  {
   "cell_type": "code",
   "execution_count": 14,
   "metadata": {},
   "outputs": [],
   "source": [
    "#!cd stress_slurm \\\n",
    "#    && singularity exec gan.sif spython recipe Dockerfile > Singularity \\\n",
    "#    && singularity build gan_.sif Singularity"
   ]
  },
  {
   "cell_type": "code",
   "execution_count": null,
   "metadata": {},
   "outputs": [],
   "source": []
  }
 ],
 "metadata": {
  "kernelspec": {
   "display_name": "Python 3.11",
   "language": "python",
   "name": "python3"
  },
  "language_info": {
   "codemirror_mode": {
    "name": "ipython",
    "version": 3
   },
   "file_extension": ".py",
   "mimetype": "text/x-python",
   "name": "python",
   "nbconvert_exporter": "python",
   "pygments_lexer": "ipython3",
   "version": "3.11.0"
  },
  "vscode": {
   "interpreter": {
    "hash": "c10594c322a1d947e8fe401957d564bca2bfab6035555ae665b20819d7ff0423"
   }
  }
 },
 "nbformat": 4,
 "nbformat_minor": 4
}
