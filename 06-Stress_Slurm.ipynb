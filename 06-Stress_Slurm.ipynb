{
 "cells": [
  {
   "cell_type": "code",
   "execution_count": 1,
   "metadata": {
    "tags": []
   },
   "outputs": [
    {
     "name": "stdout",
     "output_type": "stream",
     "text": [
      "***Running scenario 1: 1-LOSO_15real\n",
      "**Starting experiment run (1/12): CNN-LSTM_LOSO_15real...\n",
      "*** Adding real data from: WESAD ***\n",
      "*** Loaded 15 real and 0 synthetic subjects ***\n",
      "\n",
      "*CI run 1/10...\n",
      "WARNING:tensorflow:5 out of the last 9 calls to <function Model.make_test_function.<locals>.test_function at 0x14c548276670> triggered tf.function retracing. Tracing is expensive and the excessive number of tracings could be due to (1) creating @tf.function repeatedly in a loop, (2) passing tensors with different shapes, (3) passing Python objects instead of tensors. For (1), please define your @tf.function outside of the loop. For (2), @tf.function has reduce_retracing=True option that can avoid unnecessary retracing. For (3), please refer to https://www.tensorflow.org/guide/function#controlling_retracing and https://www.tensorflow.org/api_docs/python/tf/function for  more details.\n",
      "WARNING:tensorflow:6 out of the last 11 calls to <function Model.make_test_function.<locals>.test_function at 0x14c8f561e160> triggered tf.function retracing. Tracing is expensive and the excessive number of tracings could be due to (1) creating @tf.function repeatedly in a loop, (2) passing tensors with different shapes, (3) passing Python objects instead of tensors. For (1), please define your @tf.function outside of the loop. For (2), @tf.function has reduce_retracing=True option that can avoid unnecessary retracing. For (3), please refer to https://www.tensorflow.org/guide/function#controlling_retracing and https://www.tensorflow.org/api_docs/python/tf/function for  more details.\n",
      "--CI run duration :0:02:58.032746\n",
      "\n",
      "*CI run 2/10...\n",
      "^C\n",
      "Traceback (most recent call last):\n",
      "  File \"main.py\", line 195, in <module>\n",
      "    main()\n",
      "  File \"main.py\", line 191, in main\n",
      "    scenario_run(args.id, args.saving)\n",
      "  File \"main.py\", line 77, in scenario_run\n",
      "    run_dict = ci_experiment(\n",
      "  File \"/home/run_experiment.py\", line 135, in ci_experiment\n",
      "    single_run_config = run(\n",
      "  File \"/home/run_experiment.py\", line 88, in run\n",
      "    run_config[\"privacy_config\"][\"noise_multiplier\"]) = train(\n",
      "  File \"/home/stress_detector/training.py\", line 189, in train\n",
      "    model, history = train_model(model, X_train, Y_train, epochs, batch_size, gan_mode, validation_split=None, verbose=2)\n",
      "  File \"/home/stress_detector/training.py\", line 93, in train_model\n",
      "    history = model.fit(\n",
      "  File \"/usr/local/lib/python3.8/dist-packages/keras/utils/traceback_utils.py\", line 65, in error_handler\n",
      "  File \"/usr/local/lib/python3.8/dist-packages/keras/engine/training.py\", line 1685, in fit\n",
      "  File \"/usr/local/lib/python3.8/dist-packages/tensorflow/python/util/traceback_utils.py\", line 150, in error_handler\n",
      "  File \"/usr/local/lib/python3.8/dist-packages/tensorflow/python/eager/polymorphic_function/polymorphic_function.py\", line 894, in __call__\n",
      "  File \"/usr/local/lib/python3.8/dist-packages/tensorflow/python/eager/polymorphic_function/polymorphic_function.py\", line 942, in _call\n",
      "  File \"/usr/local/lib/python3.8/dist-packages/tensorflow/python/eager/polymorphic_function/polymorphic_function.py\", line 763, in _initialize\n",
      "  File \"/usr/local/lib/python3.8/dist-packages/tensorflow/python/eager/polymorphic_function/tracing_compiler.py\", line 171, in _get_concrete_function_internal_garbage_collected\n",
      "  File \"/usr/local/lib/python3.8/dist-packages/tensorflow/python/eager/polymorphic_function/tracing_compiler.py\", line 166, in _maybe_define_concrete_function\n",
      "  File \"/usr/local/lib/python3.8/dist-packages/tensorflow/python/eager/polymorphic_function/tracing_compiler.py\", line 396, in _maybe_define_function\n",
      "  File \"/usr/local/lib/python3.8/dist-packages/tensorflow/python/eager/polymorphic_function/tracing_compiler.py\", line 300, in _create_concrete_function\n",
      "  File \"/usr/local/lib/python3.8/dist-packages/tensorflow/python/framework/func_graph.py\", line 1214, in func_graph_from_py_func\n",
      "  File \"/usr/local/lib/python3.8/dist-packages/tensorflow/python/eager/polymorphic_function/polymorphic_function.py\", line 667, in wrapped_fn\n",
      "  File \"/usr/local/lib/python3.8/dist-packages/tensorflow/python/framework/func_graph.py\", line 1189, in autograph_handler\n",
      "  File \"/usr/local/lib/python3.8/dist-packages/tensorflow/python/autograph/impl/api.py\", line 439, in converted_call\n",
      "  File \"/tmp/__autograph_generated_file6lqkwr09.py\", line 15, in tf__train_function\n",
      "    retval_ = ag__.converted_call(ag__.ld(step_function), (ag__.ld(self), ag__.ld(iterator)), None, fscope)\n",
      "  File \"/usr/local/lib/python3.8/dist-packages/tensorflow/python/autograph/impl/api.py\", line 377, in converted_call\n",
      "  File \"/usr/local/lib/python3.8/dist-packages/tensorflow/python/autograph/impl/api.py\", line 459, in _call_unconverted\n",
      "  File \"/usr/local/lib/python3.8/dist-packages/keras/engine/training.py\", line 1268, in step_function\n",
      "  File \"/usr/local/lib/python3.8/dist-packages/tensorflow/python/distribute/distribute_lib.py\", line 1316, in run\n",
      "  File \"/usr/local/lib/python3.8/dist-packages/tensorflow/python/distribute/distribute_lib.py\", line 2895, in call_for_each_replica\n",
      "  File \"/usr/local/lib/python3.8/dist-packages/tensorflow/python/distribute/distribute_lib.py\", line 3696, in _call_for_each_replica\n",
      "  File \"/usr/local/lib/python3.8/dist-packages/tensorflow/python/autograph/impl/api.py\", line 689, in wrapper\n",
      "  File \"/usr/local/lib/python3.8/dist-packages/tensorflow/python/autograph/impl/api.py\", line 377, in converted_call\n",
      "  File \"/usr/local/lib/python3.8/dist-packages/tensorflow/python/autograph/impl/api.py\", line 458, in _call_unconverted\n",
      "  File \"/usr/local/lib/python3.8/dist-packages/keras/engine/training.py\", line 1249, in run_step\n",
      "  File \"/usr/local/lib/python3.8/dist-packages/keras/engine/training.py\", line 1050, in train_step\n",
      "  File \"/usr/local/lib/python3.8/dist-packages/keras/utils/traceback_utils.py\", line 65, in error_handler\n",
      "  File \"/usr/local/lib/python3.8/dist-packages/keras/engine/training.py\", line 558, in __call__\n",
      "  File \"/usr/local/lib/python3.8/dist-packages/keras/utils/traceback_utils.py\", line 65, in error_handler\n",
      "  File \"/usr/local/lib/python3.8/dist-packages/keras/engine/base_layer.py\", line 1145, in __call__\n",
      "  File \"/usr/local/lib/python3.8/dist-packages/keras/utils/traceback_utils.py\", line 96, in error_handler\n",
      "  File \"/usr/local/lib/python3.8/dist-packages/keras/engine/sequential.py\", line 412, in call\n",
      "  File \"/usr/local/lib/python3.8/dist-packages/keras/engine/functional.py\", line 512, in call\n",
      "  File \"/usr/local/lib/python3.8/dist-packages/keras/engine/functional.py\", line 669, in _run_internal_graph\n",
      "  File \"/usr/local/lib/python3.8/dist-packages/keras/layers/rnn/base_rnn.py\", line 556, in __call__\n",
      "  File \"/usr/local/lib/python3.8/dist-packages/keras/utils/traceback_utils.py\", line 65, in error_handler\n",
      "  File \"/usr/local/lib/python3.8/dist-packages/keras/engine/base_layer.py\", line 1145, in __call__\n",
      "  File \"/usr/local/lib/python3.8/dist-packages/keras/utils/traceback_utils.py\", line 96, in error_handler\n",
      "  File \"/usr/local/lib/python3.8/dist-packages/keras/layers/rnn/lstm.py\", line 748, in call\n",
      "  File \"/usr/local/lib/python3.8/dist-packages/keras/layers/rnn/lstm.py\", line 1338, in lstm_with_backend_selection\n",
      "  File \"/usr/local/lib/python3.8/dist-packages/tensorflow/python/eager/polymorphic_function/tracing_compiler.py\", line 142, in __call__\n",
      "  File \"/usr/local/lib/python3.8/dist-packages/tensorflow/python/eager/polymorphic_function/tracing_compiler.py\", line 396, in _maybe_define_function\n",
      "  File \"/usr/local/lib/python3.8/dist-packages/tensorflow/python/eager/polymorphic_function/tracing_compiler.py\", line 300, in _create_concrete_function\n",
      "  File \"/usr/local/lib/python3.8/dist-packages/tensorflow/python/framework/func_graph.py\", line 1214, in func_graph_from_py_func\n",
      "  File \"/usr/local/lib/python3.8/dist-packages/keras/layers/rnn/lstm.py\", line 980, in standard_lstm\n",
      "  File \"/usr/local/lib/python3.8/dist-packages/tensorflow/python/util/traceback_utils.py\", line 150, in error_handler\n",
      "  File \"/usr/local/lib/python3.8/dist-packages/tensorflow/python/util/dispatch.py\", line 1176, in op_dispatch_handler\n",
      "  File \"/usr/local/lib/python3.8/dist-packages/keras/backend.py\", line 5179, in rnn\n",
      "  File \"/usr/local/lib/python3.8/dist-packages/keras/backend.py\", line 5179, in <genexpr>\n",
      "  File \"/usr/local/lib/python3.8/dist-packages/tensorflow/python/util/traceback_utils.py\", line 150, in error_handler\n",
      "  File \"/usr/local/lib/python3.8/dist-packages/tensorflow/python/util/dispatch.py\", line 1176, in op_dispatch_handler\n",
      "  File \"/usr/local/lib/python3.8/dist-packages/tensorflow/python/ops/array_ops.py\", line 1089, in _slice_helper\n",
      "  File \"/usr/local/lib/python3.8/dist-packages/tensorflow/python/util/traceback_utils.py\", line 150, in error_handler\n",
      "  File \"/usr/local/lib/python3.8/dist-packages/tensorflow/python/util/dispatch.py\", line 1176, in op_dispatch_handler\n",
      "  File \"/usr/local/lib/python3.8/dist-packages/tensorflow/python/ops/array_ops.py\", line 1484, in stack\n",
      "  File \"/usr/local/lib/python3.8/dist-packages/tensorflow/python/profiler/trace.py\", line 178, in wrapped\n",
      "KeyboardInterrupt\n"
     ]
    }
   ],
   "source": [
    "!singularity exec \\\n",
    "    --cleanenv \\\n",
    "    --containall \\\n",
    "    -H $PWD:/home \\\n",
    "    --nv \\\n",
    "    stress_slurm/gan.sif \\\n",
    "    /bin/sh -c 'export TF_CPP_MIN_LOG_LEVEL=2 && python3.8 main.py --id 1 #--saving'"
   ]
  },
  {
   "cell_type": "code",
   "execution_count": 2,
   "metadata": {},
   "outputs": [],
   "source": [
    "#!cd stress_slurm \\\n",
    "#    && singularity exec gan.sif spython recipe Dockerfile > Singularity \\\n",
    "#    && singularity build gan_.sif Singularity"
   ]
  },
  {
   "cell_type": "code",
   "execution_count": null,
   "metadata": {},
   "outputs": [],
   "source": []
  }
 ],
 "metadata": {
  "kernelspec": {
   "display_name": "Python 3.11",
   "language": "python",
   "name": "python3"
  },
  "language_info": {
   "codemirror_mode": {
    "name": "ipython",
    "version": 3
   },
   "file_extension": ".py",
   "mimetype": "text/x-python",
   "name": "python",
   "nbconvert_exporter": "python",
   "pygments_lexer": "ipython3",
   "version": "3.11.0"
  },
  "vscode": {
   "interpreter": {
    "hash": "c10594c322a1d947e8fe401957d564bca2bfab6035555ae665b20819d7ff0423"
   }
  }
 },
 "nbformat": 4,
 "nbformat_minor": 4
}
