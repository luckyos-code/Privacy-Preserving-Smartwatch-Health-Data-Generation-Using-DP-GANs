{
 "cells": [
  {
   "cell_type": "code",
   "execution_count": 26,
   "metadata": {
    "tags": []
   },
   "outputs": [
    {
     "name": "stdout",
     "output_type": "stream",
     "text": [
      "[-0.9108212   0.08366886  0.43915244 -1.86173562  2.18433326  0.67112724\n",
      " -1.13247944 -1.25874342  1.63081911  1.28379638]\n"
     ]
    }
   ],
   "source": [
    "!singularity exec \\\n",
    "    --cleanenv \\\n",
    "    --containall \\\n",
    "    -H $PWD:/home \\\n",
    "    --nv \\\n",
    "    stress_slurm/gan.sif \\\n",
    "    /bin/sh -c 'export TF_CPP_MIN_LOG_LEVEL=2 && python3.8 main.py --id 5'\n",
    "    #/bin/sh -c 'export TF_CPP_MIN_LOG_LEVEL=2 && python3.8 main.py --id 5' #--saving'\n",
    "    # /bin/sh -c 'export TF_CPP_MIN_LOG_LEVEL=2 && python3.8 noise_attack.py'"
   ]
  },
  {
   "cell_type": "code",
   "execution_count": 17,
   "metadata": {},
   "outputs": [],
   "source": [
    "#!cd stress_slurm \\\n",
    "#    && singularity exec gan.sif spython recipe Dockerfile > Singularity \\\n",
    "#    && singularity build gan_.sif Singularity"
   ]
  },
  {
   "cell_type": "code",
   "execution_count": null,
   "metadata": {},
   "outputs": [],
   "source": []
  }
 ],
 "metadata": {
  "kernelspec": {
   "display_name": "Python 3.11",
   "language": "python",
   "name": "python3"
  },
  "language_info": {
   "codemirror_mode": {
    "name": "ipython",
    "version": 3
   },
   "file_extension": ".py",
   "mimetype": "text/x-python",
   "name": "python",
   "nbconvert_exporter": "python",
   "pygments_lexer": "ipython3",
   "version": "3.11.0"
  },
  "vscode": {
   "interpreter": {
    "hash": "c10594c322a1d947e8fe401957d564bca2bfab6035555ae665b20819d7ff0423"
   }
  }
 },
 "nbformat": 4,
 "nbformat_minor": 4
}
