{
 "cells": [
  {
   "cell_type": "code",
   "execution_count": 1,
   "id": "ed263c31-e195-46b2-ad4a-d25ddce4859e",
   "metadata": {},
   "outputs": [],
   "source": [
    "import os\n",
    "import json\n",
    "\n",
    "from stress_slurm import config"
   ]
  },
  {
   "cell_type": "code",
   "execution_count": null,
   "id": "d632e376-9b6a-49fe-92c2-bcd8db2e3f3a",
   "metadata": {},
   "outputs": [],
   "source": [
    "RESULT_PATH = config.RESULTS_FOLDER_PATH + \"/scenarios\"\n",
    "SCENARIOS = [\"1-LOSO_15real\", \"2-TSTR_15syn\", \"3-TSTR_cGAN\", \"4-LOSO_cGAN\"]"
   ]
  },
  {
   "cell_type": "code",
   "execution_count": null,
   "id": "da974da3-a698-48e2-8d3d-a7edfe1f422d",
   "metadata": {},
   "outputs": [],
   "source": [
    "for scenario in SCENARIOS:\n",
    "    scenario_path = RESULT_PATH + scenario\n",
    "    result_list = []\n",
    "    for filename in os.scandir(scenario_path):\n",
    "        if filename.is_file():\n",
    "            with open(filename.path) as json_file:\n",
    "                data = json.load(json_file)\n",
    "                result_list.append(data)\n",
    "                \n",
    "# columnd: acc+std rec+std prec+std f1+std unusable"
   ]
  },
  {
   "cell_type": "code",
   "execution_count": null,
   "id": "d91623c0-4342-4d03-8f2d-2a476b9a2761",
   "metadata": {},
   "outputs": [],
   "source": []
  }
 ],
 "metadata": {
  "kernelspec": {
   "display_name": "Python 3.11",
   "language": "python",
   "name": "python3"
  },
  "language_info": {
   "codemirror_mode": {
    "name": "ipython",
    "version": 3
   },
   "file_extension": ".py",
   "mimetype": "text/x-python",
   "name": "python",
   "nbconvert_exporter": "python",
   "pygments_lexer": "ipython3",
   "version": "3.11.0"
  }
 },
 "nbformat": 4,
 "nbformat_minor": 5
}
